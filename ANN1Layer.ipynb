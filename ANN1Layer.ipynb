{
 "cells": [
  {
   "cell_type": "code",
   "execution_count": 1,
   "id": "moved-rebate",
   "metadata": {},
   "outputs": [],
   "source": [
    "import numpy as np\n",
    "import matplotlib.pyplot as plt\n",
    "import pandas as pd\n",
    "import warnings\n",
    "from math import exp,log\n",
    "\n",
    "warnings.filterwarnings( \"ignore\" )\n",
    "np.random.seed(1)"
   ]
  },
  {
   "cell_type": "code",
   "execution_count": 2,
   "id": "generic-divorce",
   "metadata": {},
   "outputs": [],
   "source": [
    "myData = pd.read_csv(\"dataset_NN.csv\")\n",
    "\n",
    "X = myData.iloc[:,:-1]\n",
    "y = myData.iloc[:,-1:]\n",
    "\n",
    "myData = (X - X.min()) / (X.max() - X.min())\n",
    "myData[\"class\"] = y\n"
   ]
  },
  {
   "cell_type": "code",
   "execution_count": 3,
   "id": "rural-conspiracy",
   "metadata": {},
   "outputs": [],
   "source": [
    "train_data = myData.sample(frac = 0.7).reset_index(drop = True)\n",
    "test_data = myData.drop(train_data.index).reset_index(drop = True)\n",
    "train_data = train_data.reset_index(drop = True)"
   ]
  },
  {
   "cell_type": "code",
   "execution_count": 4,
   "id": "tested-framework",
   "metadata": {},
   "outputs": [],
   "source": [
    "num_of_hidden_nodes = 14\n",
    "num_of_output_nodes = 10\n",
    "num_of_attributes = train_data.shape[1] - 1\n",
    "rows = train_data.shape[0]\n",
    "\n",
    "wh = np.random.randn(num_of_attributes, num_of_hidden_nodes)\n",
    "bh = np.random.randn(1, num_of_hidden_nodes)\n",
    "wo = np.random.randn(num_of_hidden_nodes, num_of_output_nodes)\n",
    "bo = np.random.randn(1, num_of_output_nodes)"
   ]
  },
  {
   "cell_type": "code",
   "execution_count": 5,
   "id": "worth-heather",
   "metadata": {},
   "outputs": [],
   "source": [
    "learning_rate = 0.0001\n",
    "loss_list = []\n",
    "x_values = []\n",
    "accuracy = []"
   ]
  },
  {
   "cell_type": "code",
   "execution_count": 6,
   "id": "handled-picking",
   "metadata": {},
   "outputs": [],
   "source": [
    "def ReLU(x):\n",
    "    return np.maximum(x, 0)"
   ]
  },
  {
   "cell_type": "code",
   "execution_count": 7,
   "id": "traditional-bible",
   "metadata": {},
   "outputs": [],
   "source": [
    "def der_ReLU(x):\n",
    "    x[x <= 0] = 0 \n",
    "    x[x > 0] = 1\n",
    "    return x"
   ]
  },
  {
   "cell_type": "code",
   "execution_count": 8,
   "id": "divine-flexibility",
   "metadata": {},
   "outputs": [],
   "source": [
    "def softmax(A):\n",
    "    expA = np.exp(A)\n",
    "    return expA / expA.sum(axis = 1, keepdims = True)"
   ]
  },
  {
   "cell_type": "code",
   "execution_count": 9,
   "id": "ambient-research",
   "metadata": {},
   "outputs": [],
   "source": [
    "xi = np.array(train_data.iloc[:,:-1].values)\n",
    "value = train_data.iloc[:,-1:].values\n",
    "one_hot_labels = np.zeros((rows,num_of_output_nodes))\n",
    "for i in range(rows):\n",
    "    one_hot_labels[i, value[i][0]-1] = 1"
   ]
  },
  {
   "cell_type": "code",
   "execution_count": 10,
   "id": "western-pocket",
   "metadata": {
    "scrolled": true
   },
   "outputs": [
    {
     "name": "stdout",
     "output_type": "stream",
     "text": [
      "Loss function value:  3.03564556163348\n",
      "Training Accuracy: 19.0\n",
      "Loss function value:  0.7372562983384423\n",
      "Training Accuracy: 71.78571428571429\n",
      "Loss function value:  0.6779935083982737\n",
      "Training Accuracy: 73.21428571428571\n",
      "Loss function value:  0.6417717956637061\n",
      "Training Accuracy: 75.14285714285714\n",
      "Loss function value:  0.6140980930542157\n",
      "Training Accuracy: 76.42857142857143\n",
      "Loss function value:  0.5949496024199823\n",
      "Training Accuracy: 76.57142857142857\n",
      "Loss function value:  0.5823758089482542\n",
      "Training Accuracy: 76.57142857142857\n",
      "Loss function value:  0.574263581458876\n",
      "Training Accuracy: 76.42857142857143\n",
      "Loss function value:  0.5686461962793976\n",
      "Training Accuracy: 76.21428571428571\n",
      "Loss function value:  0.5645306869211771\n",
      "Training Accuracy: 76.21428571428571\n",
      "Loss function value:  0.5613559026902646\n",
      "Training Accuracy: 76.5\n",
      "Loss function value:  0.5587777794413867\n",
      "Training Accuracy: 76.5\n",
      "Loss function value:  0.5566434747139626\n",
      "Training Accuracy: 76.42857142857143\n",
      "Loss function value:  0.5548193215141379\n",
      "Training Accuracy: 76.5\n",
      "Loss function value:  0.5531898043957106\n",
      "Training Accuracy: 76.5\n",
      "Loss function value:  0.5517936778413114\n",
      "Training Accuracy: 76.57142857142857\n",
      "Loss function value:  0.5505099901172384\n",
      "Training Accuracy: 76.57142857142857\n",
      "Loss function value:  0.5493150689382994\n",
      "Training Accuracy: 76.57142857142857\n",
      "Loss function value:  0.5482014994081398\n",
      "Training Accuracy: 76.5\n",
      "Loss function value:  0.5472103421894401\n",
      "Training Accuracy: 76.57142857142857\n",
      "Loss function value:  0.5462775254776275\n",
      "Training Accuracy: 76.78571428571429\n",
      "Loss function value:  0.545418119793267\n",
      "Training Accuracy: 76.78571428571429\n",
      "Loss function value:  0.5446238414633459\n",
      "Training Accuracy: 76.85714285714286\n",
      "Loss function value:  0.543866415035183\n",
      "Training Accuracy: 76.85714285714286\n",
      "Loss function value:  0.5431527721989151\n",
      "Training Accuracy: 76.85714285714286\n",
      "Loss function value:  0.5424857474916618\n",
      "Training Accuracy: 76.85714285714286\n",
      "Loss function value:  0.5418705080250424\n",
      "Training Accuracy: 76.92857142857143\n",
      "Loss function value:  0.5412811731122806\n",
      "Training Accuracy: 76.92857142857143\n",
      "Loss function value:  0.5407005891982356\n",
      "Training Accuracy: 77.0\n",
      "Loss function value:  0.5401525591952842\n",
      "Training Accuracy: 77.0\n",
      "Loss function value:  0.5396321789228569\n",
      "Training Accuracy: 76.92857142857143\n",
      "Loss function value:  0.5391353377109669\n",
      "Training Accuracy: 76.92857142857143\n",
      "Loss function value:  0.5386582615571058\n",
      "Training Accuracy: 77.0\n",
      "Loss function value:  0.5382070608997924\n",
      "Training Accuracy: 77.0\n",
      "Loss function value:  0.5377792406271416\n",
      "Training Accuracy: 77.0\n",
      "Loss function value:  0.5373670527996449\n",
      "Training Accuracy: 77.0\n",
      "Loss function value:  0.5369661613344974\n",
      "Training Accuracy: 76.92857142857143\n",
      "Loss function value:  0.536565245916132\n",
      "Training Accuracy: 77.0\n",
      "Loss function value:  0.5361862362412836\n",
      "Training Accuracy: 77.07142857142857\n",
      "Loss function value:  0.5358212489570646\n",
      "Training Accuracy: 77.07142857142857\n",
      "Loss function value:  0.5354769347285202\n",
      "Training Accuracy: 77.14285714285714\n",
      "Loss function value:  0.5351453004291071\n",
      "Training Accuracy: 77.21428571428571\n",
      "Loss function value:  0.5348281055836555\n",
      "Training Accuracy: 77.35714285714286\n",
      "Loss function value:  0.5345224303490946\n",
      "Training Accuracy: 77.42857142857143\n",
      "Loss function value:  0.5342210160804599\n",
      "Training Accuracy: 77.42857142857143\n",
      "Loss function value:  0.5339337327425129\n",
      "Training Accuracy: 77.21428571428571\n",
      "Loss function value:  0.5336589245512382\n",
      "Training Accuracy: 77.21428571428571\n",
      "Loss function value:  0.5333905115755767\n",
      "Training Accuracy: 77.21428571428571\n",
      "Loss function value:  0.5331209348909389\n",
      "Training Accuracy: 77.28571428571429\n",
      "Loss function value:  0.5328455757711624\n",
      "Training Accuracy: 77.35714285714286\n"
     ]
    }
   ],
   "source": [
    "for itr in range(50000):\n",
    "    zh = np.dot(xi,wh) + bh\n",
    "    ah = ReLU(zh)\n",
    "    zo = np.dot(ah,wo) + bo \n",
    "    ao = softmax(zo)\n",
    "    \n",
    "    dcost_dzo = ao - one_hot_labels\n",
    "    dcost_dwo = np.dot(ah.T,dcost_dzo)\n",
    "    \n",
    "    wo -= learning_rate * dcost_dwo \n",
    "    bo -= learning_rate * dcost_dzo.sum(axis = 0)\n",
    "    \n",
    "    dcost_dah = np.dot(dcost_dzo,wo.T)\n",
    "    dcost_dzh = dcost_dah * der_ReLU(zh)\n",
    "    dcost_dwh = np.dot(xi.T,dcost_dzh)\n",
    "    \n",
    "    wh -= learning_rate * dcost_dwh\n",
    "    bh -= learning_rate * dcost_dzh.sum(axis = 0)\n",
    "\n",
    "    if itr % 1000 == 0:\n",
    "        loss = np.sum(-one_hot_labels * np.log(ao))\n",
    "        loss /= rows\n",
    "        print('Loss function value: ', loss)\n",
    "        loss_list.append(loss)\n",
    "        x_values.append(itr)\n",
    "        count = 0\n",
    "        for k in range(rows):\n",
    "            if np.argmax(one_hot_labels[k]) == np.argmax(ao[k]):\n",
    "                count += 1\n",
    "        accuracy.append((count*100) / rows)\n",
    "        print('Training Accuracy:', (count*100) / rows)"
   ]
  },
  {
   "cell_type": "code",
   "execution_count": 11,
   "id": "large-summer",
   "metadata": {},
   "outputs": [
    {
     "name": "stdout",
     "output_type": "stream",
     "text": [
      "Accuracy on Testing data:  82.0\n"
     ]
    },
    {
     "data": {
      "image/png": "[encoded data removed]",
      "text/plain": [
       "<Figure size 432x288 with 1 Axes>"
      ]
     },
     "metadata": {
      "needs_background": "light"
     },
     "output_type": "display_data"
    },
    {
     "data": {
      "image/png": "[encoded data removed]",
      "text/plain": [
       "<Figure size 432x288 with 1 Axes>"
      ]
     },
     "metadata": {
      "needs_background": "light"
     },
     "output_type": "display_data"
    }
   ],
   "source": [
    "rows = test_data.shape[0]\n",
    "\n",
    "xi = np.array(test_data.iloc[:,:-1].values)\n",
    "value = test_data.iloc[:,-1:].values\n",
    "one_hot_labels = np.zeros((rows,num_of_output_nodes))\n",
    "for i in range(rows):\n",
    "    one_hot_labels[i, value[i][0]-1] = 1\n",
    "    \n",
    "zh = np.dot(xi,wh) + bh\n",
    "ah = ReLU(zh)\n",
    "zo = np.dot(ah,wo) + bo\n",
    "ao = softmax(zo)\n",
    "count = 0\n",
    "\n",
    "#Accuracy on testing data\n",
    "for k in range(rows): \n",
    "    if np.argmax(one_hot_labels[k]) == np.argmax(ao[k]):\n",
    "        count += 1\n",
    "print('Accuracy on Testing data: ', (count*100) / rows)\n",
    "\n",
    "\n",
    "plt.scatter(x_values,loss_list)\n",
    "plt.title(\"Loss\")\n",
    "plt.show()\n",
    "plt.scatter(x_values,accuracy)\n",
    "plt.title(\"Accuracy\")\n",
    "plt.show()"
   ]
  },
  {
   "cell_type": "code",
   "execution_count": null,
   "id": "floating-discussion",
   "metadata": {},
   "outputs": [],
   "source": []
  }
 ],
 "metadata": {
  "kernelspec": {
   "display_name": "Python 3",
   "language": "python",
   "name": "python3"
  },
  "language_info": {
   "codemirror_mode": {
    "name": "ipython",
    "version": 3
   },
   "file_extension": ".py",
   "mimetype": "text/x-python",
   "name": "python",
   "nbconvert_exporter": "python",
   "pygments_lexer": "ipython3",
   "version": "3.9.1"
  }
 },
 "nbformat": 4,
 "nbformat_minor": 5
}
