{
 "cells": [
  {
   "cell_type": "code",
   "execution_count": 1,
   "id": "indonesian-burst",
   "metadata": {},
   "outputs": [],
   "source": [
    "import numpy as np\n",
    "import matplotlib.pyplot as plt\n",
    "import pandas as pd\n",
    "import warnings\n",
    "from math import exp,log\n",
    "\n",
    "warnings.filterwarnings( \"ignore\" )\n",
    "np.random.seed(1)"
   ]
  },
  {
   "cell_type": "code",
   "execution_count": 2,
   "id": "spread-spell",
   "metadata": {},
   "outputs": [],
   "source": [
    "myData = pd.read_csv(\"dataset_NN.csv\")\n",
    "\n",
    "X = myData.iloc[:,:-1]\n",
    "y = myData.iloc[:,-1:]\n",
    "\n",
    "myData = (X - X.min())/(X.max() - X.min())\n",
    "myData[\"class\"] = y"
   ]
  },
  {
   "cell_type": "code",
   "execution_count": 3,
   "id": "assumed-gibraltar",
   "metadata": {},
   "outputs": [],
   "source": [
    "train_data = myData.sample(frac = 0.7).reset_index(drop = True)\n",
    "test_data = myData.drop(train_data.index).reset_index(drop = True)\n",
    "train_data = train_data.reset_index(drop = True)"
   ]
  },
  {
   "cell_type": "code",
   "execution_count": 4,
   "id": "enclosed-desert",
   "metadata": {},
   "outputs": [],
   "source": [
    "num_of_hidden_nodes = 13\n",
    "num_of_hidden_nodes2 = 8\n",
    "num_of_output_nodes = 10\n",
    "num_of_attributes = train_data.shape[1] - 1\n",
    "rows = train_data.shape[0]\n",
    "\n",
    "wh = np.random.randn(num_of_attributes, num_of_hidden_nodes)\n",
    "bh = np.random.randn(1, num_of_hidden_nodes)\n",
    "wh2 = np.random.randn(num_of_hidden_nodes, num_of_hidden_nodes2)\n",
    "bh2 = np.random.randn(1, num_of_hidden_nodes2)\n",
    "wo = np.random.randn(num_of_hidden_nodes2, num_of_output_nodes)\n",
    "bo = np.random.randn(1, num_of_output_nodes)"
   ]
  },
  {
   "cell_type": "code",
   "execution_count": 5,
   "id": "static-register",
   "metadata": {},
   "outputs": [],
   "source": [
    "learning_rate = 0.00003\n",
    "loss_list = []\n",
    "x_values = []\n",
    "accuracy = []"
   ]
  },
  {
   "cell_type": "code",
   "execution_count": 6,
   "id": "enclosed-mechanics",
   "metadata": {},
   "outputs": [],
   "source": [
    "def ReLU(x):\n",
    "    return np.maximum(x, 0)"
   ]
  },
  {
   "cell_type": "code",
   "execution_count": 7,
   "id": "lasting-hawaii",
   "metadata": {},
   "outputs": [],
   "source": [
    "def der_ReLU(x):\n",
    "    x[x <= 0] = 0\n",
    "    x[x > 0] = 1\n",
    "    return x"
   ]
  },
  {
   "cell_type": "code",
   "execution_count": 8,
   "id": "little-election",
   "metadata": {},
   "outputs": [],
   "source": [
    "def softmax(A):\n",
    "    expA = np.exp(A)\n",
    "    return expA / expA.sum(axis = 1, keepdims = True)"
   ]
  },
  {
   "cell_type": "code",
   "execution_count": 9,
   "id": "processed-study",
   "metadata": {},
   "outputs": [],
   "source": [
    "xi=np.array(train_data.iloc[:,:-1].values)\n",
    "value=train_data.iloc[:,-1:].values\n",
    "one_hot_labels=np.zeros((rows, num_of_output_nodes))\n",
    "for i in range(rows):\n",
    "    one_hot_labels[i, value[i][0]-1] = 1"
   ]
  },
  {
   "cell_type": "code",
   "execution_count": 10,
   "id": "amateur-season",
   "metadata": {
    "scrolled": true
   },
   "outputs": [
    {
     "name": "stdout",
     "output_type": "stream",
     "text": [
      "Loss function value:  6.838315173858297\n",
      "Training Accuracy: 17.571428571428573\n",
      "Loss function value:  0.8150398237489412\n",
      "Training Accuracy: 67.78571428571429\n",
      "Loss function value:  0.7128404423890874\n",
      "Training Accuracy: 70.78571428571429\n",
      "Loss function value:  0.6831571613407555\n",
      "Training Accuracy: 71.78571428571429\n",
      "Loss function value:  0.6659942088774385\n",
      "Training Accuracy: 72.14285714285714\n",
      "Loss function value:  0.6526463331464083\n",
      "Training Accuracy: 72.35714285714286\n",
      "Loss function value:  0.6413105528571844\n",
      "Training Accuracy: 72.42857142857143\n",
      "Loss function value:  0.6303539246453324\n",
      "Training Accuracy: 73.07142857142857\n",
      "Loss function value:  0.6178539317170937\n",
      "Training Accuracy: 73.78571428571429\n",
      "Loss function value:  0.6024994935187264\n",
      "Training Accuracy: 74.71428571428571\n",
      "Loss function value:  0.5869116748270676\n",
      "Training Accuracy: 75.35714285714286\n",
      "Loss function value:  0.5761109024380733\n",
      "Training Accuracy: 75.71428571428571\n",
      "Loss function value:  0.5699372038617216\n",
      "Training Accuracy: 75.64285714285714\n",
      "Loss function value:  0.5662972719944621\n",
      "Training Accuracy: 75.92857142857143\n",
      "Loss function value:  0.5639361889511156\n",
      "Training Accuracy: 76.0\n",
      "Loss function value:  0.5622192015506128\n",
      "Training Accuracy: 76.07142857142857\n",
      "Loss function value:  0.5608334726042348\n",
      "Training Accuracy: 76.14285714285714\n",
      "Loss function value:  0.5595348596475758\n",
      "Training Accuracy: 76.28571428571429\n",
      "Loss function value:  0.558409709062161\n",
      "Training Accuracy: 76.28571428571429\n",
      "Loss function value:  0.557429634864531\n",
      "Training Accuracy: 76.35714285714286\n",
      "Loss function value:  0.5565447044200174\n",
      "Training Accuracy: 76.42857142857143\n",
      "Loss function value:  0.5557282521230033\n",
      "Training Accuracy: 76.5\n",
      "Loss function value:  0.5549699505841749\n",
      "Training Accuracy: 76.5\n",
      "Loss function value:  0.5542729897203172\n",
      "Training Accuracy: 76.71428571428571\n",
      "Loss function value:  0.5536133214060812\n",
      "Training Accuracy: 76.71428571428571\n",
      "Loss function value:  0.5530140574269335\n",
      "Training Accuracy: 76.78571428571429\n",
      "Loss function value:  0.5521697262027996\n",
      "Training Accuracy: 76.85714285714286\n",
      "Loss function value:  0.5513622516288198\n",
      "Training Accuracy: 77.0\n",
      "Loss function value:  0.5507117415059191\n",
      "Training Accuracy: 77.07142857142857\n",
      "Loss function value:  0.5500668284084602\n",
      "Training Accuracy: 77.21428571428571\n",
      "Loss function value:  0.5494509607351501\n",
      "Training Accuracy: 77.14285714285714\n",
      "Loss function value:  0.5489139627123838\n",
      "Training Accuracy: 77.28571428571429\n",
      "Loss function value:  0.548380339373405\n",
      "Training Accuracy: 77.21428571428571\n",
      "Loss function value:  0.547903095282085\n",
      "Training Accuracy: 77.28571428571429\n",
      "Loss function value:  0.5474512171897388\n",
      "Training Accuracy: 77.35714285714286\n",
      "Loss function value:  0.5470288978147091\n",
      "Training Accuracy: 77.21428571428571\n",
      "Loss function value:  0.5466205605609977\n",
      "Training Accuracy: 77.21428571428571\n",
      "Loss function value:  0.5462568146616188\n",
      "Training Accuracy: 77.35714285714286\n",
      "Loss function value:  0.5458871838013678\n",
      "Training Accuracy: 77.5\n",
      "Loss function value:  0.54551846230542\n",
      "Training Accuracy: 77.64285714285714\n",
      "Loss function value:  0.5451164022857731\n",
      "Training Accuracy: 77.5\n",
      "Loss function value:  0.5447550016165862\n",
      "Training Accuracy: 77.5\n",
      "Loss function value:  0.5444083608559735\n",
      "Training Accuracy: 77.5\n",
      "Loss function value:  0.5440589446543607\n",
      "Training Accuracy: 77.57142857142857\n",
      "Loss function value:  0.5441790457093979\n",
      "Training Accuracy: 77.35714285714286\n",
      "Loss function value:  0.5436617797259723\n",
      "Training Accuracy: 77.28571428571429\n",
      "Loss function value:  0.5442198264334744\n",
      "Training Accuracy: 77.35714285714286\n",
      "Loss function value:  0.5442759885015629\n",
      "Training Accuracy: 77.42857142857143\n",
      "Loss function value:  0.5445338705125682\n",
      "Training Accuracy: 77.21428571428571\n",
      "Loss function value:  0.5435162035788523\n",
      "Training Accuracy: 77.64285714285714\n"
     ]
    }
   ],
   "source": [
    "for itr in range(50000):\n",
    "    zh = np.dot(xi,wh) + bh\n",
    "    ah = ReLU(zh)\n",
    "    zh2 = np.dot(ah,wh2) + bh2\n",
    "    ah2 = ReLU(zh2)\n",
    "    zo = np.dot(ah2,wo) + bo\n",
    "    ao = softmax(zo)\n",
    "    \n",
    "    dcost_dzo=ao-one_hot_labels\n",
    "    dcost_dwo=np.dot(ah2.T,dcost_dzo)\n",
    "    \n",
    "    wo-=learning_rate*dcost_dwo\n",
    "    bo-=learning_rate*dcost_dzo.sum(axis=0)\n",
    "    \n",
    "    dcost_dah2=np.dot(dcost_dzo,wo.T)\n",
    "    dcost_dzh2=dcost_dah2*der_ReLU(zh2)\n",
    "    dcost_dwh2=np.dot(ah.T,dcost_dzh2)\n",
    "    \n",
    "    wh2-=learning_rate*dcost_dwh2\n",
    "    bh2-=learning_rate*dcost_dzh2.sum(axis=0)\n",
    "    \n",
    "    dcost_dah=np.dot(dcost_dzh2,wh2.T)\n",
    "    dcost_dzh=dcost_dah*der_ReLU(zh)\n",
    "    dcost_dwh=np.dot(xi.T,dcost_dzh)\n",
    "    \n",
    "    wh-=learning_rate*dcost_dwh\n",
    "    bh-=learning_rate*dcost_dzh.sum(axis=0)\n",
    "    \n",
    "    if itr % 1000 == 0:\n",
    "        loss = np.sum(-one_hot_labels * np.log(ao))\n",
    "        loss /= rows\n",
    "        print('Loss function value: ', loss)\n",
    "        loss_list.append(loss)\n",
    "        x_values.append(itr)\n",
    "        count = 0\n",
    "        for k in range(rows):\n",
    "            if np.argmax(one_hot_labels[k]) == np.argmax(ao[k]):\n",
    "                count += 1\n",
    "        accuracy.append((count*100) / rows)\n",
    "        print('Training Accuracy:', (count*100) / rows)"
   ]
  },
  {
   "cell_type": "code",
   "execution_count": 11,
   "id": "amended-trunk",
   "metadata": {},
   "outputs": [
    {
     "name": "stdout",
     "output_type": "stream",
     "text": [
      "Accuracy on testing data:  82.66666666666667\n"
     ]
    },
    {
     "data": {
      "image/png": "[encoded data removed]",
      "text/plain": [
       "<Figure size 432x288 with 1 Axes>"
      ]
     },
     "metadata": {
      "needs_background": "light"
     },
     "output_type": "display_data"
    },
    {
     "data": {
      "image/png": "[encoded data removed]",
      "text/plain": [
       "<Figure size 432x288 with 1 Axes>"
      ]
     },
     "metadata": {
      "needs_background": "light"
     },
     "output_type": "display_data"
    }
   ],
   "source": [
    "rows = test_data.shape[0]\n",
    "\n",
    "xi = np.array(test_data.iloc[:,:-1].values)\n",
    "value = test_data.iloc[:,-1:].values\n",
    "one_hot_labels = np.zeros((rows, num_of_output_nodes))\n",
    "for i in range(rows):\n",
    "    one_hot_labels[i, value[i][0]-1] = 1\n",
    "    \n",
    "zh = np.dot(xi,wh) + bh\n",
    "ah = ReLU(zh)\n",
    "zh2 = np.dot(ah,wh2) + bh2\n",
    "ah2 = ReLU(zh2)\n",
    "zo = np.dot(ah2,wo) + bo\n",
    "ao = softmax(zo)\n",
    "count = 0\n",
    "\n",
    "#Accuracy on testing data\n",
    "for k in range(rows):\n",
    "    if np.argmax(one_hot_labels[k]) == np.argmax(ao[k]):\n",
    "        count += 1\n",
    "print('Accuracy on testing data: ', (count * 100) / rows)\n",
    "\n",
    "plt.scatter(x_values, loss_list)\n",
    "plt.title(\"Loss\")\n",
    "plt.show()\n",
    "plt.scatter(x_values, accuracy)\n",
    "plt.title(\"Accuracy\")\n",
    "plt.show()"
   ]
  },
  {
   "cell_type": "code",
   "execution_count": null,
   "id": "forced-anthony",
   "metadata": {},
   "outputs": [],
   "source": []
  }
 ],
 "metadata": {
  "kernelspec": {
   "display_name": "Python 3",
   "language": "python",
   "name": "python3"
  },
  "language_info": {
   "codemirror_mode": {
    "name": "ipython",
    "version": 3
   },
   "file_extension": ".py",
   "mimetype": "text/x-python",
   "name": "python",
   "nbconvert_exporter": "python",
   "pygments_lexer": "ipython3",
   "version": "3.9.1"
  }
 },
 "nbformat": 4,
 "nbformat_minor": 5
}
